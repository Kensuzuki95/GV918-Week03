{
  "nbformat": 4,
  "nbformat_minor": 0,
  "metadata": {
    "colab": {
      "name": "Week 03 Class - NumPy.ipynb",
      "provenance": [],
      "collapsed_sections": []
    },
    "kernelspec": {
      "name": "python3",
      "display_name": "Python 3"
    }
  },
  "cells": [
    {
      "cell_type": "markdown",
      "metadata": {
        "id": "MHE4d-Ptt9Wh"
      },
      "source": [
        "## Import NumPy"
      ]
    },
    {
      "cell_type": "code",
      "metadata": {
        "id": "Eq5fIicst5O1"
      },
      "source": [
        "import numpy as np"
      ],
      "execution_count": 1,
      "outputs": []
    },
    {
      "cell_type": "markdown",
      "metadata": {
        "id": "UmmODwnnuB8M"
      },
      "source": [
        "## Create NumPy arrays"
      ]
    },
    {
      "cell_type": "markdown",
      "metadata": {
        "id": "jPiQM5eyuksQ"
      },
      "source": [
        "### Create following 1d arrays\n",
        "\n",
        "```\n",
        "array([0, 1, 2, 3, 4, 5, 6, 7, 8, 9])\n",
        "\n",
        "array([  1,   2,   3,   4,   5,   6,   7,   8,   9,  10,  11,  12,  13,\n",
        "        14,  15,  16,  17,  18,  19,  20,  21,  22,  23,  24,  25,  26,\n",
        "        27,  28,  29,  30,  31,  32,  33,  34,  35,  36,  37,  38,  39,\n",
        "        40,  41,  42,  43,  44,  45,  46,  47,  48,  49,  50,  51,  52,\n",
        "        53,  54,  55,  56,  57,  58,  59,  60,  61,  62,  63,  64,  65,\n",
        "        66,  67,  68,  69,  70,  71,  72,  73,  74,  75,  76,  77,  78,\n",
        "        79,  80,  81,  82,  83,  84,  85,  86,  87,  88,  89,  90,  91,\n",
        "        92,  93,  94,  95,  96,  97,  98,  99, 100])\n",
        "\n",
        "array([1., 1., 1., 1., 1.])\n",
        "\n",
        "```\n"
      ]
    },
    {
      "cell_type": "code",
      "metadata": {
        "id": "_JDeQYayuWyQ",
        "outputId": "c574ade5-6ad0-47aa-f059-df5ee1fa0e6a",
        "colab": {
          "base_uri": "https://localhost:8080/",
          "height": 51
        }
      },
      "source": [
        "arr_1 = np.arange(10)\n",
        "print(arr_1)\n",
        "arr_1"
      ],
      "execution_count": 4,
      "outputs": [
        {
          "output_type": "stream",
          "text": [
            "[0 1 2 3 4 5 6 7 8 9]\n"
          ],
          "name": "stdout"
        },
        {
          "output_type": "execute_result",
          "data": {
            "text/plain": [
              "array([0, 1, 2, 3, 4, 5, 6, 7, 8, 9])"
            ]
          },
          "metadata": {
            "tags": []
          },
          "execution_count": 4
        }
      ]
    },
    {
      "cell_type": "code",
      "metadata": {
        "id": "LaqZAocyMABH",
        "outputId": "8538c119-1518-4942-c762-aec3a5500cb5",
        "colab": {
          "base_uri": "https://localhost:8080/",
          "height": 153
        }
      },
      "source": [
        "arr_2 = np.arange(1,101)\n",
        "arr_2"
      ],
      "execution_count": 8,
      "outputs": [
        {
          "output_type": "execute_result",
          "data": {
            "text/plain": [
              "array([  1,   2,   3,   4,   5,   6,   7,   8,   9,  10,  11,  12,  13,\n",
              "        14,  15,  16,  17,  18,  19,  20,  21,  22,  23,  24,  25,  26,\n",
              "        27,  28,  29,  30,  31,  32,  33,  34,  35,  36,  37,  38,  39,\n",
              "        40,  41,  42,  43,  44,  45,  46,  47,  48,  49,  50,  51,  52,\n",
              "        53,  54,  55,  56,  57,  58,  59,  60,  61,  62,  63,  64,  65,\n",
              "        66,  67,  68,  69,  70,  71,  72,  73,  74,  75,  76,  77,  78,\n",
              "        79,  80,  81,  82,  83,  84,  85,  86,  87,  88,  89,  90,  91,\n",
              "        92,  93,  94,  95,  96,  97,  98,  99, 100])"
            ]
          },
          "metadata": {
            "tags": []
          },
          "execution_count": 8
        }
      ]
    },
    {
      "cell_type": "code",
      "metadata": {
        "id": "r7ORYTqKMVzp",
        "outputId": "5b224d1d-74b2-42bd-ea1d-6547cd008bda",
        "colab": {
          "base_uri": "https://localhost:8080/",
          "height": 34
        }
      },
      "source": [
        "arr_ones = np.ones(5)\n",
        "arr_ones"
      ],
      "execution_count": 9,
      "outputs": [
        {
          "output_type": "execute_result",
          "data": {
            "text/plain": [
              "array([1., 1., 1., 1., 1.])"
            ]
          },
          "metadata": {
            "tags": []
          },
          "execution_count": 9
        }
      ]
    },
    {
      "cell_type": "code",
      "metadata": {
        "id": "JCT_Y0wjOjU3",
        "outputId": "844b2aaf-873b-450e-ad32-a38c5c175372",
        "colab": {
          "base_uri": "https://localhost:8080/",
          "height": 34
        }
      },
      "source": [
        "np.ones((1,5), dtype=float) #float option"
      ],
      "execution_count": 18,
      "outputs": [
        {
          "output_type": "execute_result",
          "data": {
            "text/plain": [
              "array([[1., 1., 1., 1., 1.]])"
            ]
          },
          "metadata": {
            "tags": []
          },
          "execution_count": 18
        }
      ]
    },
    {
      "cell_type": "code",
      "metadata": {
        "id": "X0NsDj36O5r5",
        "outputId": "59bb924b-b247-4ecd-9d9e-e5749f8f4c9d",
        "colab": {
          "base_uri": "https://localhost:8080/",
          "height": 34
        }
      },
      "source": [
        "np.ones((1,5), dtype=np.integer)"
      ],
      "execution_count": 16,
      "outputs": [
        {
          "output_type": "execute_result",
          "data": {
            "text/plain": [
              "array([[1, 1, 1, 1, 1]])"
            ]
          },
          "metadata": {
            "tags": []
          },
          "execution_count": 16
        }
      ]
    },
    {
      "cell_type": "markdown",
      "metadata": {
        "id": "3gxN51KiuXT4"
      },
      "source": [
        "### Create following 2d arrays\n",
        "\n",
        "```\n",
        "array([[31, 22, 48],\n",
        "       [52, 33, 40],\n",
        "       [72,  8, 37]])\n",
        "\n",
        "array([[0., 0., 0., 0., 0.],\n",
        "       [0., 0., 0., 0., 0.],\n",
        "       [0., 0., 0., 0., 0.],\n",
        "       [0., 0., 0., 0., 0.]])\n",
        "\n",
        "array([[ 0,  1,  2,  3],\n",
        "       [ 4,  5,  6,  7],\n",
        "       [ 8,  9, 10, 11],\n",
        "       [12, 13, 14, 15],\n",
        "       [16, 17, 18, 19],\n",
        "       [20, 21, 22, 23]])\n",
        "\n",
        "```"
      ]
    },
    {
      "cell_type": "code",
      "metadata": {
        "id": "0ed7y1ozuVg7",
        "outputId": "28647214-7f0d-4d61-ba29-b9931f1fc932",
        "colab": {
          "base_uri": "https://localhost:8080/",
          "height": 68
        }
      },
      "source": [
        "arr_a = np.random.randint(low = 0, high = 100, size = 9)\n",
        "arr_a = arr_a.reshape(3,3)\n",
        "arr_a"
      ],
      "execution_count": 11,
      "outputs": [
        {
          "output_type": "execute_result",
          "data": {
            "text/plain": [
              "array([[98, 98, 95],\n",
              "       [69, 87, 26],\n",
              "       [14, 95, 40]])"
            ]
          },
          "metadata": {
            "tags": []
          },
          "execution_count": 11
        }
      ]
    },
    {
      "cell_type": "code",
      "metadata": {
        "id": "ifWg5f7INdXW",
        "outputId": "26c6fe9f-7363-44ec-f7ff-500fc507208f",
        "colab": {
          "base_uri": "https://localhost:8080/",
          "height": 102
        }
      },
      "source": [
        "arr_zeros = np.zeros(20)\n",
        "arr_zeros = arr_zeros.reshape(5,4)\n",
        "arr_zeros"
      ],
      "execution_count": 13,
      "outputs": [
        {
          "output_type": "execute_result",
          "data": {
            "text/plain": [
              "array([[0., 0., 0., 0.],\n",
              "       [0., 0., 0., 0.],\n",
              "       [0., 0., 0., 0.],\n",
              "       [0., 0., 0., 0.],\n",
              "       [0., 0., 0., 0.]])"
            ]
          },
          "metadata": {
            "tags": []
          },
          "execution_count": 13
        }
      ]
    },
    {
      "cell_type": "code",
      "metadata": {
        "id": "Nt4Xmu2_QRNK",
        "outputId": "2b628c40-0091-443d-e2e5-184215820b5a",
        "colab": {
          "base_uri": "https://localhost:8080/",
          "height": 85
        }
      },
      "source": [
        "np.zeros((4,5)) #a;ternative efficient answer"
      ],
      "execution_count": 19,
      "outputs": [
        {
          "output_type": "execute_result",
          "data": {
            "text/plain": [
              "array([[0., 0., 0., 0., 0.],\n",
              "       [0., 0., 0., 0., 0.],\n",
              "       [0., 0., 0., 0., 0.],\n",
              "       [0., 0., 0., 0., 0.]])"
            ]
          },
          "metadata": {
            "tags": []
          },
          "execution_count": 19
        }
      ]
    },
    {
      "cell_type": "code",
      "metadata": {
        "id": "RXU897RmNu3L",
        "outputId": "fafb3862-e84f-4f3c-bcaa-29bdde2efe93",
        "colab": {
          "base_uri": "https://localhost:8080/",
          "height": 119
        }
      },
      "source": [
        "arr_b = np.arange(24)\n",
        "arr_b = arr_b.reshape(6,4)\n",
        "arr_b"
      ],
      "execution_count": 20,
      "outputs": [
        {
          "output_type": "execute_result",
          "data": {
            "text/plain": [
              "array([[ 0,  1,  2,  3],\n",
              "       [ 4,  5,  6,  7],\n",
              "       [ 8,  9, 10, 11],\n",
              "       [12, 13, 14, 15],\n",
              "       [16, 17, 18, 19],\n",
              "       [20, 21, 22, 23]])"
            ]
          },
          "metadata": {
            "tags": []
          },
          "execution_count": 20
        }
      ]
    },
    {
      "cell_type": "markdown",
      "metadata": {
        "id": "UndpTevKwPfi"
      },
      "source": [
        "### Generate arrays with random numbers\n",
        "\n",
        "- 1d array with 10 numbers from random uniform distribution\n",
        "- 1d array with 25 numbers from normal distribution\n",
        "- 4 x 5 array from random integer in [0, 100]"
      ]
    },
    {
      "cell_type": "code",
      "metadata": {
        "id": "aOfOmouhvlXu",
        "outputId": "cc45861d-9cca-46ee-f729-ae86ba5f6f28",
        "colab": {
          "base_uri": "https://localhost:8080/",
          "height": 51
        }
      },
      "source": [
        "np.random.rand(10)"
      ],
      "execution_count": 25,
      "outputs": [
        {
          "output_type": "execute_result",
          "data": {
            "text/plain": [
              "array([0.85817523, 0.42293933, 0.91346603, 0.77931931, 0.25053257,\n",
              "       0.46308022, 0.23830178, 0.52901428, 0.38702901, 0.72293603])"
            ]
          },
          "metadata": {
            "tags": []
          },
          "execution_count": 25
        }
      ]
    },
    {
      "cell_type": "code",
      "metadata": {
        "id": "jzW66L1sSQy7",
        "outputId": "0429437f-ea8e-4e76-fdf0-d08a0b2f43ef",
        "colab": {
          "base_uri": "https://localhost:8080/",
          "height": 102
        }
      },
      "source": [
        "np.random.randn(25)"
      ],
      "execution_count": 28,
      "outputs": [
        {
          "output_type": "execute_result",
          "data": {
            "text/plain": [
              "array([ 1.57190899,  1.00148624,  0.44965078,  1.06161893, -1.20719515,\n",
              "        0.69310607,  2.66835973,  0.54415302,  1.03763004,  0.71408019,\n",
              "        0.09098066, -0.75269344,  1.92572929,  0.60581991, -0.48598288,\n",
              "        1.06172453, -0.26186152,  1.45178608, -0.87000577,  1.18548344,\n",
              "       -0.82390179, -0.24077222, -0.36120333, -1.73691582,  0.594506  ])"
            ]
          },
          "metadata": {
            "tags": []
          },
          "execution_count": 28
        }
      ]
    },
    {
      "cell_type": "code",
      "metadata": {
        "id": "wKHtCPl8RlB-",
        "outputId": "1c77c433-ed99-4576-c70c-2d46cd415d9d",
        "colab": {
          "base_uri": "https://localhost:8080/",
          "height": 85
        }
      },
      "source": [
        "arr_z = np.random.randint(low=0, high=100, size = 20)\n",
        "arr_z.reshape(4,5)"
      ],
      "execution_count": 27,
      "outputs": [
        {
          "output_type": "execute_result",
          "data": {
            "text/plain": [
              "array([[44, 58, 57, 82, 86],\n",
              "       [94, 25, 95, 84, 51],\n",
              "       [16, 96, 85, 91, 27],\n",
              "       [52, 94, 28, 52,  1]])"
            ]
          },
          "metadata": {
            "tags": []
          },
          "execution_count": 27
        }
      ]
    },
    {
      "cell_type": "markdown",
      "metadata": {
        "id": "9SeTuV27ba77"
      },
      "source": [
        "## Array Indexing\n"
      ]
    },
    {
      "cell_type": "markdown",
      "metadata": {
        "id": "x5yIpaijg5TU"
      },
      "source": [
        "\n",
        "### 1d array indexing \n",
        "\n",
        "- From the following array, extract the elements shown below "
      ]
    },
    {
      "cell_type": "code",
      "metadata": {
        "id": "b5uC3m9Qbcy0"
      },
      "source": [
        "arr_1d = np.array([41, 42, 43, 44, 45, 46, 47, 48, 49, 50, 51, 52, \n",
        "                   53, 54, 55, 56, 57, 58, 59, 60])"
      ],
      "execution_count": 34,
      "outputs": []
    },
    {
      "cell_type": "markdown",
      "metadata": {
        "id": "8hizvuB7c44I"
      },
      "source": [
        "1. \n",
        "    ```\n",
        "    array([41, 42, 43, 44])\n",
        "    ```\n",
        "1. \n",
        "    ```\n",
        "    array([56, 57, 58, 59, 60])\n",
        "    ```\n",
        "1. \n",
        "    ```\n",
        "    array([51, 52, 53])\n",
        "    ```\n",
        "1. \n",
        "    ```\n",
        "    array([42, 55, 49])\n",
        "    ```\n"
      ]
    },
    {
      "cell_type": "code",
      "metadata": {
        "id": "tuHNmT9jTfPD",
        "outputId": "b4795537-4a81-4feb-fa5c-85124d0a7689",
        "colab": {
          "base_uri": "https://localhost:8080/",
          "height": 34
        }
      },
      "source": [
        "arr_1d [:4]"
      ],
      "execution_count": 37,
      "outputs": [
        {
          "output_type": "execute_result",
          "data": {
            "text/plain": [
              "array([41, 42, 43, 44])"
            ]
          },
          "metadata": {
            "tags": []
          },
          "execution_count": 37
        }
      ]
    },
    {
      "cell_type": "code",
      "metadata": {
        "id": "qyrvCxDrV_Dg",
        "outputId": "4ee85cef-cbb7-45e0-c23b-5a47c8f53aa9",
        "colab": {
          "base_uri": "https://localhost:8080/",
          "height": 34
        }
      },
      "source": [
        "bool_arr_1d = arr_1d < 45 #usimg bool\n",
        "arr_1d[bool_arr_1d]"
      ],
      "execution_count": 48,
      "outputs": [
        {
          "output_type": "execute_result",
          "data": {
            "text/plain": [
              "array([41, 42, 43, 44])"
            ]
          },
          "metadata": {
            "tags": []
          },
          "execution_count": 48
        }
      ]
    },
    {
      "cell_type": "code",
      "metadata": {
        "id": "rt0JrLvKVSCB",
        "outputId": "a39c71fc-23c8-4ffb-edfa-0e4d2ee96409",
        "colab": {
          "base_uri": "https://localhost:8080/",
          "height": 34
        }
      },
      "source": [
        "arr_1d[-5:]"
      ],
      "execution_count": 41,
      "outputs": [
        {
          "output_type": "execute_result",
          "data": {
            "text/plain": [
              "array([56, 57, 58, 59, 60])"
            ]
          },
          "metadata": {
            "tags": []
          },
          "execution_count": 41
        }
      ]
    },
    {
      "cell_type": "code",
      "metadata": {
        "id": "gDDch_RIVgB6",
        "outputId": "5a1eb1e1-6cef-4509-bb17-09285e52d193",
        "colab": {
          "base_uri": "https://localhost:8080/",
          "height": 34
        }
      },
      "source": [
        "arr_1d[10:13]"
      ],
      "execution_count": 43,
      "outputs": [
        {
          "output_type": "execute_result",
          "data": {
            "text/plain": [
              "array([51, 52, 53])"
            ]
          },
          "metadata": {
            "tags": []
          },
          "execution_count": 43
        }
      ]
    },
    {
      "cell_type": "code",
      "metadata": {
        "id": "kmEFAfYDXVkk",
        "outputId": "d917e0e7-8ee2-4ced-f505-2eb88bd5c74e",
        "colab": {
          "base_uri": "https://localhost:8080/",
          "height": 34
        }
      },
      "source": [
        "arr_1d[(arr_1d < 54) & (arr_1d > 50)] #Use \"&\" to combine conditions"
      ],
      "execution_count": 51,
      "outputs": [
        {
          "output_type": "execute_result",
          "data": {
            "text/plain": [
              "array([51, 52, 53])"
            ]
          },
          "metadata": {
            "tags": []
          },
          "execution_count": 51
        }
      ]
    },
    {
      "cell_type": "code",
      "metadata": {
        "id": "_9Gqdre4VqnZ",
        "outputId": "d225dd0f-636d-4b80-a248-08c1d453936a",
        "colab": {
          "base_uri": "https://localhost:8080/",
          "height": 34
        }
      },
      "source": [
        "arr_1d[[1,14,8]]"
      ],
      "execution_count": 54,
      "outputs": [
        {
          "output_type": "execute_result",
          "data": {
            "text/plain": [
              "array([42, 55, 49, 44])"
            ]
          },
          "metadata": {
            "tags": []
          },
          "execution_count": 54
        }
      ]
    },
    {
      "cell_type": "markdown",
      "metadata": {
        "id": "Z-1IJ3bpgzO1"
      },
      "source": [
        "### 2d array indexing\n",
        "\n",
        "- Do the same task for the following 2d array\n"
      ]
    },
    {
      "cell_type": "code",
      "metadata": {
        "id": "uDXhuohCbrTN"
      },
      "source": [
        "arr_2d = np.array([[11, 12, 13, 14, 15],\n",
        "       [21, 22, 23, 24, 25],\n",
        "       [31, 32, 33, 34, 35],\n",
        "       [41, 42, 43, 44, 45]])"
      ],
      "execution_count": 56,
      "outputs": []
    },
    {
      "cell_type": "markdown",
      "metadata": {
        "id": "W1TgSJBEll7E"
      },
      "source": [
        "Using indexing, generate the following sub-arrays\n",
        "\n",
        "1. \n",
        "    ```\n",
        "    array([[31, 32, 33, 34, 35],\n",
        "          [41, 42, 43, 44, 45]])\n",
        "    ```\n",
        "1. \n",
        "    ```\n",
        "    array([[11, 12],\n",
        "          [21, 22],\n",
        "          [31, 32],\n",
        "          [41, 42]])    \n",
        "    ```\n",
        "1. \n",
        "    ```\n",
        "    array([[32, 33],\n",
        "           [42, 43]])\n",
        "    ```\n",
        "1. \n",
        "    ```\n",
        "    array([[23, 25],\n",
        "          [43, 45]])    \n",
        "    ```\n"
      ]
    },
    {
      "cell_type": "code",
      "metadata": {
        "id": "seI1IGHXYtgb",
        "outputId": "5bc47ea8-af38-4c81-ab83-15be66f5690a",
        "colab": {
          "base_uri": "https://localhost:8080/",
          "height": 51
        }
      },
      "source": [
        "arr_2d[:2]"
      ],
      "execution_count": 61,
      "outputs": [
        {
          "output_type": "execute_result",
          "data": {
            "text/plain": [
              "array([[11, 12, 13, 14, 15],\n",
              "       [21, 22, 23, 24, 25]])"
            ]
          },
          "metadata": {
            "tags": []
          },
          "execution_count": 61
        }
      ]
    },
    {
      "cell_type": "code",
      "metadata": {
        "id": "r8rjZDA6YXZ6",
        "outputId": "c0db8264-b8fe-4169-efda-01be22504683",
        "colab": {
          "base_uri": "https://localhost:8080/",
          "height": 85
        }
      },
      "source": [
        "arr_2d[:,0:2]"
      ],
      "execution_count": 63,
      "outputs": [
        {
          "output_type": "execute_result",
          "data": {
            "text/plain": [
              "array([[11, 12],\n",
              "       [21, 22],\n",
              "       [31, 32],\n",
              "       [41, 42]])"
            ]
          },
          "metadata": {
            "tags": []
          },
          "execution_count": 63
        }
      ]
    },
    {
      "cell_type": "code",
      "metadata": {
        "id": "EyrnPMFtZL9l",
        "outputId": "594ae862-6dfe-4f85-e8ea-5535fb459c4b",
        "colab": {
          "base_uri": "https://localhost:8080/",
          "height": 51
        }
      },
      "source": [
        "arr_2d[2:4, 1:3]"
      ],
      "execution_count": 65,
      "outputs": [
        {
          "output_type": "execute_result",
          "data": {
            "text/plain": [
              "array([[32, 33],\n",
              "       [42, 43]])"
            ]
          },
          "metadata": {
            "tags": []
          },
          "execution_count": 65
        }
      ]
    },
    {
      "cell_type": "code",
      "metadata": {
        "id": "_hJ-EuCQZZKB",
        "outputId": "71be3532-bb61-4951-b915-d94f91cea1ae",
        "colab": {
          "base_uri": "https://localhost:8080/",
          "height": 51
        }
      },
      "source": [
        "arr_2d[[1,3]][:, [2,4]]"
      ],
      "execution_count": 67,
      "outputs": [
        {
          "output_type": "execute_result",
          "data": {
            "text/plain": [
              "array([[23, 25],\n",
              "       [43, 45]])"
            ]
          },
          "metadata": {
            "tags": []
          },
          "execution_count": 67
        }
      ]
    },
    {
      "cell_type": "markdown",
      "metadata": {
        "id": "w9WRZ5QKmbF2"
      },
      "source": [
        ""
      ]
    },
    {
      "cell_type": "code",
      "metadata": {
        "id": "N5qSNNoVnGWS"
      },
      "source": [
        "arr_int = np.array([-448,  754,  990,   18, -689,  641, -199,  -44, -557, -222,  -18,\n",
        "       -687,  -69,  106,  821,  628, -427, -269, -624, -478,  886,  841,\n",
        "        999,   99,  964, -312,   42,  186,  298,  170, -441,  761,  900,\n",
        "       -207,  626, -322, -351,  169,  523, -131, -508,  181,  714,  171,\n",
        "       -131,  525,  810, -173,  424, -265,  242,  313,   57,  423,  685,\n",
        "        -16,  732,  372,  661,  654, -106,  443,  281, -125,  523,  476,\n",
        "        525,  577,  938, -140,  333,  180, -348,  591, -135,  961,  805,\n",
        "       -488, -422,  538, -433,  873,  568, -202, -181,  986,  769, -682,\n",
        "       -645,  883, -529,  -27,  656,  153, -165, -242, -678,  635, -135,\n",
        "        364])"
      ],
      "execution_count": 69,
      "outputs": []
    },
    {
      "cell_type": "markdown",
      "metadata": {
        "id": "Zo6WfmKAmfwL"
      },
      "source": [
        "For the array above, find the following numbers\n",
        " - The max/min number\n",
        " - Standard deviation of the array\n",
        " - Mean \n"
      ]
    },
    {
      "cell_type": "code",
      "metadata": {
        "id": "eJln6H1bmaNH",
        "outputId": "ff343ec1-b6ee-4f6d-9f0e-3e138276fc36",
        "colab": {
          "base_uri": "https://localhost:8080/",
          "height": 34
        }
      },
      "source": [
        "np.max(arr_int)"
      ],
      "execution_count": 71,
      "outputs": [
        {
          "output_type": "execute_result",
          "data": {
            "text/plain": [
              "999"
            ]
          },
          "metadata": {
            "tags": []
          },
          "execution_count": 71
        }
      ]
    },
    {
      "cell_type": "code",
      "metadata": {
        "id": "cpabJ1ooaZEN",
        "outputId": "37695fa7-00b9-4b2b-93cd-6ad631612d5f",
        "colab": {
          "base_uri": "https://localhost:8080/",
          "height": 34
        }
      },
      "source": [
        "np.min(arr_int)"
      ],
      "execution_count": 72,
      "outputs": [
        {
          "output_type": "execute_result",
          "data": {
            "text/plain": [
              "-689"
            ]
          },
          "metadata": {
            "tags": []
          },
          "execution_count": 72
        }
      ]
    },
    {
      "cell_type": "code",
      "metadata": {
        "id": "NLhk8UW2awGD",
        "outputId": "9c511273-21a7-4425-ed03-cad974511d29",
        "colab": {
          "base_uri": "https://localhost:8080/",
          "height": 34
        }
      },
      "source": [
        "np.std(arr_int)"
      ],
      "execution_count": 74,
      "outputs": [
        {
          "output_type": "execute_result",
          "data": {
            "text/plain": [
              "494.33985991420917"
            ]
          },
          "metadata": {
            "tags": []
          },
          "execution_count": 74
        }
      ]
    },
    {
      "cell_type": "code",
      "metadata": {
        "id": "YzQsAfjIadMG",
        "outputId": "bec58183-f718-45a8-875f-46c0cf0ed97e",
        "colab": {
          "base_uri": "https://localhost:8080/",
          "height": 34
        }
      },
      "source": [
        "np.mean(arr_int)"
      ],
      "execution_count": 73,
      "outputs": [
        {
          "output_type": "execute_result",
          "data": {
            "text/plain": [
              "181.73"
            ]
          },
          "metadata": {
            "tags": []
          },
          "execution_count": 73
        }
      ]
    },
    {
      "cell_type": "markdown",
      "metadata": {
        "id": "olADoo_SnvoJ"
      },
      "source": [
        "## Array Operations (2d)\n"
      ]
    },
    {
      "cell_type": "code",
      "metadata": {
        "id": "Gl5NVNOtn3kq"
      },
      "source": [
        "arr_normal = np.array([[-1.35589711,  0.32804138, -0.42081221, -0.26130734,  0.70162537,\n",
        "        -2.74984249,  0.68124585, -0.1580792 , -0.14275744,  0.46342884,\n",
        "         0.86430316, -0.07669887],\n",
        "       [-0.74704059, -0.9071367 , -1.64174011,  0.03933122,  0.37675907,\n",
        "         1.90269555,  0.44306442,  0.57069955, -0.28930021, -1.65834518,\n",
        "         0.91165489, -0.24778658],\n",
        "       [ 0.84422231, -2.61441156, -0.25364573,  0.75980507,  0.81245918,\n",
        "         0.4495238 , -1.73419967,  0.06119128,  0.20092236, -0.02241897,\n",
        "        -0.35468241, -1.10875505],\n",
        "       [-1.2590743 , -1.798422  ,  0.29824561,  0.61399003, -2.84641582,\n",
        "        -0.06309182, -0.86245245, -2.00527547, -1.36537977,  1.81020212,\n",
        "         0.15409758,  0.77957902],\n",
        "       [ 0.33642384,  1.6658424 ,  1.01517418, -0.94632536, -0.67836296,\n",
        "        -1.58780134, -1.71699404,  0.19439649,  0.16351275, -2.08961948,\n",
        "        -0.67480237, -0.98241524],\n",
        "       [-0.97960876,  0.7256977 ,  0.2322489 , -0.79256359, -0.86636526,\n",
        "         1.01071361,  0.06147106,  0.31257068,  0.54583426, -0.8035504 ,\n",
        "         0.73390521,  0.05112845],\n",
        "       [-0.17791452, -0.92611399,  0.27351997,  0.25378587,  0.78804843,\n",
        "        -1.06393523,  2.65299826, -0.91232348, -2.93197926,  1.73152395,\n",
        "         0.59431283, -0.10374418],\n",
        "       [ 0.57609783,  0.51063139, -0.06848566,  2.65524085,  0.90236844,\n",
        "        -0.63241958,  0.99904813, -0.6191799 ,  0.44955157, -1.99264591,\n",
        "        -0.94398059, -0.68643509],\n",
        "       [ 0.0329195 , -0.64513047,  0.46339352,  0.22950196,  1.03883248,\n",
        "         2.09548912,  0.91148567, -1.05809727, -2.82315242, -1.24258192,\n",
        "         0.32577142, -0.56579935],\n",
        "       [ 0.76420142,  0.4468688 ,  0.69440669, -0.69501969,  0.99550496,\n",
        "         0.04774205, -0.38475403, -0.34571432, -1.54386284,  2.93070093,\n",
        "         0.55347872, -0.90081639]])"
      ],
      "execution_count": 75,
      "outputs": []
    },
    {
      "cell_type": "markdown",
      "metadata": {
        "id": "3XUvKcjepR2f"
      },
      "source": [
        "For the array above, find the following numbers\n",
        " - The max/min number \n",
        "    - in the entire array\n",
        "    - in each row\n",
        "    - in each column\n",
        " - Mean of \n",
        "    - the entire array\n",
        "    - each row \n",
        "    - each column\n"
      ]
    },
    {
      "cell_type": "code",
      "metadata": {
        "id": "c7H25CyqxEnT",
        "outputId": "293977e6-c1a6-4d08-a41f-45796d552aa0",
        "colab": {
          "base_uri": "https://localhost:8080/",
          "height": 34
        }
      },
      "source": [
        "np.max(arr_normal)"
      ],
      "execution_count": 77,
      "outputs": [
        {
          "output_type": "execute_result",
          "data": {
            "text/plain": [
              "2.93070093"
            ]
          },
          "metadata": {
            "tags": []
          },
          "execution_count": 77
        }
      ]
    },
    {
      "cell_type": "code",
      "metadata": {
        "id": "sWNbNpnnbEOI",
        "outputId": "5c69f23c-b3da-4c94-d975-25f9edf1a77e",
        "colab": {
          "base_uri": "https://localhost:8080/",
          "height": 34
        }
      },
      "source": [
        "np.min(arr_normal)"
      ],
      "execution_count": 78,
      "outputs": [
        {
          "output_type": "execute_result",
          "data": {
            "text/plain": [
              "-2.93197926"
            ]
          },
          "metadata": {
            "tags": []
          },
          "execution_count": 78
        }
      ]
    },
    {
      "cell_type": "code",
      "metadata": {
        "id": "sicmADfhbHGV",
        "outputId": "bb24709a-8189-47d6-99bc-cdc0665321a7",
        "colab": {
          "base_uri": "https://localhost:8080/",
          "height": 51
        }
      },
      "source": [
        "np.max(arr_normal, axis = 1)"
      ],
      "execution_count": 81,
      "outputs": [
        {
          "output_type": "execute_result",
          "data": {
            "text/plain": [
              "array([0.86430316, 1.90269555, 0.84422231, 1.81020212, 1.6658424 ,\n",
              "       1.01071361, 2.65299826, 2.65524085, 2.09548912, 2.93070093])"
            ]
          },
          "metadata": {
            "tags": []
          },
          "execution_count": 81
        }
      ]
    },
    {
      "cell_type": "code",
      "metadata": {
        "id": "SYQ2oRZsdPEQ",
        "outputId": "059e695e-8489-444c-e76b-64c7bdd93951",
        "colab": {
          "base_uri": "https://localhost:8080/",
          "height": 51
        }
      },
      "source": [
        "arr_normal.max(axis=1) #alternative syntax"
      ],
      "execution_count": 88,
      "outputs": [
        {
          "output_type": "execute_result",
          "data": {
            "text/plain": [
              "array([0.86430316, 1.90269555, 0.84422231, 1.81020212, 1.6658424 ,\n",
              "       1.01071361, 2.65299826, 2.65524085, 2.09548912, 2.93070093])"
            ]
          },
          "metadata": {
            "tags": []
          },
          "execution_count": 88
        }
      ]
    },
    {
      "cell_type": "code",
      "metadata": {
        "id": "9HhtvUO7bjFi",
        "outputId": "2eb02b0e-dcd5-4c90-b04b-2fbf9f952289",
        "colab": {
          "base_uri": "https://localhost:8080/",
          "height": 51
        }
      },
      "source": [
        "np.min(arr_normal, axis =1)"
      ],
      "execution_count": 83,
      "outputs": [
        {
          "output_type": "execute_result",
          "data": {
            "text/plain": [
              "array([-2.74984249, -1.65834518, -2.61441156, -2.84641582, -2.08961948,\n",
              "       -0.97960876, -2.93197926, -1.99264591, -2.82315242, -1.54386284])"
            ]
          },
          "metadata": {
            "tags": []
          },
          "execution_count": 83
        }
      ]
    },
    {
      "cell_type": "code",
      "metadata": {
        "id": "HGdJJmV3brhC",
        "outputId": "766391f5-6e3a-4bc2-8efc-a854c9f2bc00",
        "colab": {
          "base_uri": "https://localhost:8080/",
          "height": 68
        }
      },
      "source": [
        "np.max(arr_normal, axis = 0)"
      ],
      "execution_count": 84,
      "outputs": [
        {
          "output_type": "execute_result",
          "data": {
            "text/plain": [
              "array([0.84422231, 1.6658424 , 1.01517418, 2.65524085, 1.03883248,\n",
              "       2.09548912, 2.65299826, 0.57069955, 0.54583426, 2.93070093,\n",
              "       0.91165489, 0.77957902])"
            ]
          },
          "metadata": {
            "tags": []
          },
          "execution_count": 84
        }
      ]
    },
    {
      "cell_type": "code",
      "metadata": {
        "id": "Iy0NoN8Mbxxb",
        "outputId": "c59407bf-7c53-4201-ed80-a69f651d9c8b",
        "colab": {
          "base_uri": "https://localhost:8080/",
          "height": 68
        }
      },
      "source": [
        "np.min(arr_normal, axis = 0)"
      ],
      "execution_count": 85,
      "outputs": [
        {
          "output_type": "execute_result",
          "data": {
            "text/plain": [
              "array([-1.35589711, -2.61441156, -1.64174011, -0.94632536, -2.84641582,\n",
              "       -2.74984249, -1.73419967, -2.00527547, -2.93197926, -2.08961948,\n",
              "       -0.94398059, -1.10875505])"
            ]
          },
          "metadata": {
            "tags": []
          },
          "execution_count": 85
        }
      ]
    },
    {
      "cell_type": "code",
      "metadata": {
        "id": "tcEo-Y69b274",
        "outputId": "306f1426-c067-4698-94be-d45f98f6f307",
        "colab": {
          "base_uri": "https://localhost:8080/",
          "height": 34
        }
      },
      "source": [
        "np.mean(arr_normal)"
      ],
      "execution_count": 86,
      "outputs": [
        {
          "output_type": "execute_result",
          "data": {
            "text/plain": [
              "-0.1274502665833333"
            ]
          },
          "metadata": {
            "tags": []
          },
          "execution_count": 86
        }
      ]
    },
    {
      "cell_type": "code",
      "metadata": {
        "id": "btsUUzmMb8kp"
      },
      "source": [
        ""
      ],
      "execution_count": null,
      "outputs": []
    },
    {
      "cell_type": "markdown",
      "metadata": {
        "id": "zhajIm8uhiVI"
      },
      "source": [
        "# Control Sequences (optional)\n",
        "\n",
        "## Programming FizzBuzz\n",
        "\n",
        "Write a code for FizzBuzz. The definition of the program is:\n",
        "\n",
        "> A program that prints the numbers from 1 to 100. But for multiples of three print “Fizz” instead of the number and for the multiples of five print “Buzz”. For numbers which are multiples of both three and five print “FizzBuzz”. (from [here](https://www.tomdalling.com/blog/software-design/fizzbuzz-in-too-much-detail/#:~:text=FizzBuzz%20is%20a%20very%20simple,numbers%20from%201%20to%20100))\n",
        "\n",
        "##### Note:\n",
        "\n",
        "- You can find numerous examples online, but please try by yourself :)\n",
        "- The output is like:\n",
        "    ```\n",
        "    [1, 2, 'Fizz', 4, 'Buzz', 'Fizz', 7, 8, 'Fizz', 'Buzz', 11, 'Fizz', 13, 14,\n",
        "     'FizzBuzz', 16, 17, 'Fizz', 19, 'Buzz', 'Fizz', 22, 23, 'Fizz', 'Buzz', \n",
        "     26, 'Fizz', 28, 29, 'FizzBuzz', 31, 32, 'Fizz', 34, 'Buzz', 'Fizz', 37, \n",
        "     38, 'Fizz', 'Buzz', 41, 'Fizz', 43, 44, 'FizzBuzz', 46, 47, 'Fizz', 49, \n",
        "     'Buzz', 'Fizz', 52, 53, 'Fizz', 'Buzz', 56, 'Fizz', 58, 59, 'FizzBuzz', \n",
        "     61, 62, 'Fizz', 64, 'Buzz', 'Fizz', 67, 68, 'Fizz', 'Buzz', 71, 'Fizz', \n",
        "     73, 74, 'FizzBuzz', 76, 77, 'Fizz', 79, 'Buzz', 'Fizz', 82, 83, 'Fizz', \n",
        "     'Buzz', 86, 'Fizz', 88, 89, 'FizzBuzz', 91, 92, 'Fizz', 94, 'Buzz', \n",
        "     'Fizz', 97, 98, 'Fizz']\n",
        "    ```\n",
        "- You need to know how to use `%` (Modulus) operator ([Link](https://www.tutorialspoint.com/python/python_basic_operators.htm))\n",
        "\n"
      ]
    },
    {
      "cell_type": "code",
      "metadata": {
        "id": "ASi7d1p-kDyw"
      },
      "source": [
        ""
      ],
      "execution_count": null,
      "outputs": []
    }
  ]
}