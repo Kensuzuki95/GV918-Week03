{
  "nbformat": 4,
  "nbformat_minor": 0,
  "metadata": {
    "colab": {
      "name": "Week 03 Class - Pandas IO.ipynb",
      "provenance": [],
      "collapsed_sections": []
    },
    "kernelspec": {
      "name": "python3",
      "display_name": "Python 3"
    }
  },
  "cells": [
    {
      "cell_type": "markdown",
      "metadata": {
        "id": "H09hKDOdzWar"
      },
      "source": [
        "## New Zealand Crime Data\n",
        "\n",
        "- We will use New Zealand crime data, hosted on a government website"
      ]
    },
    {
      "cell_type": "markdown",
      "metadata": {
        "id": "KHZKFxh0z2l5"
      },
      "source": [
        "## Import Pandas"
      ]
    },
    {
      "cell_type": "code",
      "metadata": {
        "id": "djr6Dc7Zz4up"
      },
      "source": [
        "import pandas as pd"
      ],
      "execution_count": 1,
      "outputs": []
    },
    {
      "cell_type": "markdown",
      "metadata": {
        "id": "ixE0rf8AywyC"
      },
      "source": [
        "## Download the data\n",
        "\n",
        "The file url is:\n",
        "https://www.stats.govt.nz/assets/Uploads/Tools/CSV-files-for-download/analysis-public-place-assaults-sexual-assaults-and-robberies-2015-csv.csv\n",
        "\n",
        "Get the file with one of the methods:\n",
        "\n",
        "1. Use `!wget`\n",
        "2. Use the browser, download to local, and upload on your google drive\n",
        "3. Download the file, then use the following commands (but didn't work in my environment...)\n",
        "    ```\n",
        "    from google.colab import files\n",
        "    uploaded = files.upload()\n",
        "    ```"
      ]
    },
    {
      "cell_type": "code",
      "metadata": {
        "id": "cXhqZzyMgQg7",
        "outputId": "5fb7c0d2-782c-4876-ac1a-92cf0c618522",
        "colab": {
          "base_uri": "https://localhost:8080/",
          "height": 34
        }
      },
      "source": [
        "from google.colab import drive\n",
        "drive.mount('/content/drive')"
      ],
      "execution_count": 4,
      "outputs": [
        {
          "output_type": "stream",
          "text": [
            "Mounted at /content/drive\n"
          ],
          "name": "stdout"
        }
      ]
    },
    {
      "cell_type": "code",
      "metadata": {
        "id": "OH4jPR-KL1dZ",
        "outputId": "5dff202d-cb5e-4dba-d3ec-a3ddcc28cf2c",
        "colab": {
          "base_uri": "https://localhost:8080/",
          "height": 224
        }
      },
      "source": [
        "!wget  https://www.stats.govt.nz/assets/Uploads/Tools/CSV-files-for-download/analysis-public-place-assaults-sexual-assaults-and-robberies-2015-csv.csv"
      ],
      "execution_count": 3,
      "outputs": [
        {
          "output_type": "stream",
          "text": [
            "--2020-10-20 14:50:59--  https://www.stats.govt.nz/assets/Uploads/Tools/CSV-files-for-download/analysis-public-place-assaults-sexual-assaults-and-robberies-2015-csv.csv\n",
            "Resolving www.stats.govt.nz (www.stats.govt.nz)... 45.60.15.104\n",
            "Connecting to www.stats.govt.nz (www.stats.govt.nz)|45.60.15.104|:443... connected.\n",
            "HTTP request sent, awaiting response... 200 OK\n",
            "Length: 234466 (229K) [text/csv]\n",
            "Saving to: ‘analysis-public-place-assaults-sexual-assaults-and-robberies-2015-csv.csv’\n",
            "\n",
            "analysis-public-pla 100%[===================>] 228.97K   341KB/s    in 0.7s    \n",
            "\n",
            "2020-10-20 14:51:01 (341 KB/s) - ‘analysis-public-place-assaults-sexual-assaults-and-robberies-2015-csv.csv’ saved [234466/234466]\n",
            "\n"
          ],
          "name": "stdout"
        }
      ]
    },
    {
      "cell_type": "markdown",
      "metadata": {
        "id": "bp5kMlbJ1v1k"
      },
      "source": [
        "### Open the file\n",
        "\n",
        "- using a method in pd, you can open the file as DataFrame\n",
        "- then, see the file contents with `.head()` method"
      ]
    },
    {
      "cell_type": "code",
      "metadata": {
        "id": "qOG3hlCIzouq"
      },
      "source": [
        ""
      ],
      "execution_count": null,
      "outputs": []
    },
    {
      "cell_type": "markdown",
      "metadata": {
        "id": "B4_XkbiTzyzY"
      },
      "source": [
        "## Open directly from URL\n",
        "\n",
        "Alternatively, you can use URL to open it directly..."
      ]
    },
    {
      "cell_type": "code",
      "metadata": {
        "id": "YQI-ou4JzvuO",
        "outputId": "d252fef6-040a-4ff8-fe69-1206b20990f5",
        "colab": {
          "base_uri": "https://localhost:8080/",
          "height": 255
        }
      },
      "source": [
        "df = pd.read_csv(\"https://www.stats.govt.nz/assets/Uploads/Tools/CSV-files-for-download/analysis-public-place-assaults-sexual-assaults-and-robberies-2015-csv.csv\")\n",
        "df.head"
      ],
      "execution_count": 9,
      "outputs": [
        {
          "output_type": "execute_result",
          "data": {
            "text/plain": [
              "<bound method NDFrame.head of       Index  Area_unit_2013_code  ... Region_2013_code     Region_2013_label\n",
              "0         1               514102  ...                2       Auckland Region\n",
              "1         2               573101  ...                9     Wellington Region\n",
              "2         3               529700  ...                3        Waikato Region\n",
              "3         4               514103  ...                2       Auckland Region\n",
              "4         5               591500  ...               13     Canterbury Region\n",
              "...     ...                  ...  ...              ...                   ...\n",
              "2015   2016               506653  ...                2       Auckland Region\n",
              "2016   2017               610601  ...               15      Southland Region\n",
              "2017   2018               536513  ...                4  Bay of Plenty Region\n",
              "2018   2019               574302  ...                9     Wellington Region\n",
              "2019   2020               527007  ...                3        Waikato Region\n",
              "\n",
              "[2020 rows x 14 columns]>"
            ]
          },
          "metadata": {
            "tags": []
          },
          "execution_count": 9
        }
      ]
    },
    {
      "cell_type": "markdown",
      "metadata": {
        "id": "hamvTYsLK62s"
      },
      "source": [
        "## Saving the data\n",
        "\n",
        "Pandas supports numerous types of data files under `dfname.to_*`, including\n",
        "\n",
        "- `dfname.to_csv()`\n",
        "- `dfname.to_excel()`\n",
        "- `dfname.to_stata()`\n",
        "\n",
        "Let's try some of them.\n",
        "\n",
        "\n"
      ]
    },
    {
      "cell_type": "markdown",
      "metadata": {
        "id": "-ZPgyZK6MVhr"
      },
      "source": [
        "### CSV\n",
        "\n",
        "- Write the data in csv format, then read again with pandas"
      ]
    },
    {
      "cell_type": "code",
      "metadata": {
        "id": "qcQQ3RjCMUee",
        "outputId": "1a34b090-003a-4012-913d-1a883664c210",
        "colab": {
          "base_uri": "https://localhost:8080/",
          "height": 378
        }
      },
      "source": [
        "df.to_csv(\"https://drive.google.com/drive/folders/1egIrQ_tz1oeUoxS6CZxEOVYNJZI8sjl4?usp=sharing\")"
      ],
      "execution_count": 8,
      "outputs": [
        {
          "output_type": "error",
          "ename": "TypeError",
          "evalue": "ignored",
          "traceback": [
            "\u001b[0;31m---------------------------------------------------------------------------\u001b[0m",
            "\u001b[0;31mTypeError\u001b[0m                                 Traceback (most recent call last)",
            "\u001b[0;32m<ipython-input-8-2ce1d84f9b37>\u001b[0m in \u001b[0;36m<module>\u001b[0;34m()\u001b[0m\n\u001b[0;32m----> 1\u001b[0;31m \u001b[0mdf\u001b[0m\u001b[0;34m.\u001b[0m\u001b[0mto_csv\u001b[0m\u001b[0;34m(\u001b[0m\u001b[0;34m\"https://drive.google.com/drive/folders/1egIrQ_tz1oeUoxS6CZxEOVYNJZI8sjl4?usp=sharing\"\u001b[0m\u001b[0;34m)\u001b[0m\u001b[0;34m\u001b[0m\u001b[0;34m\u001b[0m\u001b[0m\n\u001b[0m",
            "\u001b[0;32m/usr/local/lib/python3.6/dist-packages/pandas/core/generic.py\u001b[0m in \u001b[0;36mto_csv\u001b[0;34m(self, path_or_buf, sep, na_rep, float_format, columns, header, index, index_label, mode, encoding, compression, quoting, quotechar, line_terminator, chunksize, date_format, doublequote, escapechar, decimal, errors)\u001b[0m\n\u001b[1;32m   3165\u001b[0m             \u001b[0mdecimal\u001b[0m\u001b[0;34m=\u001b[0m\u001b[0mdecimal\u001b[0m\u001b[0;34m,\u001b[0m\u001b[0;34m\u001b[0m\u001b[0;34m\u001b[0m\u001b[0m\n\u001b[1;32m   3166\u001b[0m         )\n\u001b[0;32m-> 3167\u001b[0;31m         \u001b[0mformatter\u001b[0m\u001b[0;34m.\u001b[0m\u001b[0msave\u001b[0m\u001b[0;34m(\u001b[0m\u001b[0;34m)\u001b[0m\u001b[0;34m\u001b[0m\u001b[0;34m\u001b[0m\u001b[0m\n\u001b[0m\u001b[1;32m   3168\u001b[0m \u001b[0;34m\u001b[0m\u001b[0m\n\u001b[1;32m   3169\u001b[0m         \u001b[0;32mif\u001b[0m \u001b[0mpath_or_buf\u001b[0m \u001b[0;32mis\u001b[0m \u001b[0;32mNone\u001b[0m\u001b[0;34m:\u001b[0m\u001b[0;34m\u001b[0m\u001b[0;34m\u001b[0m\u001b[0m\n",
            "\u001b[0;32m/usr/local/lib/python3.6/dist-packages/pandas/io/formats/csvs.py\u001b[0m in \u001b[0;36msave\u001b[0;34m(self)\u001b[0m\n\u001b[1;32m    204\u001b[0m             )\n\u001b[1;32m    205\u001b[0m \u001b[0;34m\u001b[0m\u001b[0m\n\u001b[0;32m--> 206\u001b[0;31m             \u001b[0mself\u001b[0m\u001b[0;34m.\u001b[0m\u001b[0m_save\u001b[0m\u001b[0;34m(\u001b[0m\u001b[0;34m)\u001b[0m\u001b[0;34m\u001b[0m\u001b[0;34m\u001b[0m\u001b[0m\n\u001b[0m\u001b[1;32m    207\u001b[0m \u001b[0;34m\u001b[0m\u001b[0m\n\u001b[1;32m    208\u001b[0m         \u001b[0;32mfinally\u001b[0m\u001b[0;34m:\u001b[0m\u001b[0;34m\u001b[0m\u001b[0;34m\u001b[0m\u001b[0m\n",
            "\u001b[0;32m/usr/local/lib/python3.6/dist-packages/pandas/io/formats/csvs.py\u001b[0m in \u001b[0;36m_save\u001b[0;34m(self)\u001b[0m\n\u001b[1;32m    312\u001b[0m \u001b[0;34m\u001b[0m\u001b[0m\n\u001b[1;32m    313\u001b[0m     \u001b[0;32mdef\u001b[0m \u001b[0m_save\u001b[0m\u001b[0;34m(\u001b[0m\u001b[0mself\u001b[0m\u001b[0;34m)\u001b[0m \u001b[0;34m->\u001b[0m \u001b[0;32mNone\u001b[0m\u001b[0;34m:\u001b[0m\u001b[0;34m\u001b[0m\u001b[0;34m\u001b[0m\u001b[0m\n\u001b[0;32m--> 314\u001b[0;31m         \u001b[0mself\u001b[0m\u001b[0;34m.\u001b[0m\u001b[0m_save_header\u001b[0m\u001b[0;34m(\u001b[0m\u001b[0;34m)\u001b[0m\u001b[0;34m\u001b[0m\u001b[0;34m\u001b[0m\u001b[0m\n\u001b[0m\u001b[1;32m    315\u001b[0m \u001b[0;34m\u001b[0m\u001b[0m\n\u001b[1;32m    316\u001b[0m         \u001b[0mnrows\u001b[0m \u001b[0;34m=\u001b[0m \u001b[0mlen\u001b[0m\u001b[0;34m(\u001b[0m\u001b[0mself\u001b[0m\u001b[0;34m.\u001b[0m\u001b[0mdata_index\u001b[0m\u001b[0;34m)\u001b[0m\u001b[0;34m\u001b[0m\u001b[0;34m\u001b[0m\u001b[0m\n",
            "\u001b[0;32m/usr/local/lib/python3.6/dist-packages/pandas/io/formats/csvs.py\u001b[0m in \u001b[0;36m_save_header\u001b[0;34m(self)\u001b[0m\n\u001b[1;32m    281\u001b[0m         \u001b[0;32mif\u001b[0m \u001b[0;32mnot\u001b[0m \u001b[0mhas_mi_columns\u001b[0m \u001b[0;32mor\u001b[0m \u001b[0mhas_aliases\u001b[0m\u001b[0;34m:\u001b[0m\u001b[0;34m\u001b[0m\u001b[0;34m\u001b[0m\u001b[0m\n\u001b[1;32m    282\u001b[0m             \u001b[0mencoded_labels\u001b[0m \u001b[0;34m+=\u001b[0m \u001b[0mlist\u001b[0m\u001b[0;34m(\u001b[0m\u001b[0mwrite_cols\u001b[0m\u001b[0;34m)\u001b[0m\u001b[0;34m\u001b[0m\u001b[0;34m\u001b[0m\u001b[0m\n\u001b[0;32m--> 283\u001b[0;31m             \u001b[0mwriter\u001b[0m\u001b[0;34m.\u001b[0m\u001b[0mwriterow\u001b[0m\u001b[0;34m(\u001b[0m\u001b[0mencoded_labels\u001b[0m\u001b[0;34m)\u001b[0m\u001b[0;34m\u001b[0m\u001b[0;34m\u001b[0m\u001b[0m\n\u001b[0m\u001b[1;32m    284\u001b[0m         \u001b[0;32melse\u001b[0m\u001b[0;34m:\u001b[0m\u001b[0;34m\u001b[0m\u001b[0;34m\u001b[0m\u001b[0m\n\u001b[1;32m    285\u001b[0m             \u001b[0;31m# write out the mi\u001b[0m\u001b[0;34m\u001b[0m\u001b[0;34m\u001b[0m\u001b[0;34m\u001b[0m\u001b[0m\n",
            "\u001b[0;31mTypeError\u001b[0m: a bytes-like object is required, not 'str'"
          ]
        }
      ]
    },
    {
      "cell_type": "markdown",
      "metadata": {
        "id": "afBCpB29MiDP"
      },
      "source": [
        "### Excel\n",
        "\n",
        "- Write an excel file, open with Google sheet or Excel\n"
      ]
    },
    {
      "cell_type": "code",
      "metadata": {
        "id": "5w8PDZJmMtf5"
      },
      "source": [
        ""
      ],
      "execution_count": null,
      "outputs": []
    }
  ]
}